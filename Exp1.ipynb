{
  "nbformat": 4,
  "nbformat_minor": 0,
  "metadata": {
    "colab": {
      "provenance": [],
      "toc_visible": true,
      "authorship_tag": "ABX9TyOBIisF8J8NBPYNcnS/x3La",
      "include_colab_link": true
    },
    "kernelspec": {
      "name": "python3",
      "display_name": "Python 3"
    },
    "language_info": {
      "name": "python"
    }
  },
  "cells": [
    {
      "cell_type": "markdown",
      "metadata": {
        "id": "view-in-github",
        "colab_type": "text"
      },
      "source": [
        "<a href=\"https://colab.research.google.com/github/MJayabharathi/Ex-01---Implementation-of-Univariate-Linear-Regression-to-fit-a-straight-line-using-least-squares/blob/main/Exp1.ipynb\" target=\"_parent\"><img src=\"https://colab.research.google.com/assets/colab-badge.svg\" alt=\"Open In Colab\"/></a>"
      ]
    },
    {
      "cell_type": "code",
      "execution_count": null,
      "metadata": {
        "id": "FOEwbhI0PF3I"
      },
      "outputs": [],
      "source": [
        "import numpy as np\n",
        "import matplotlib.pyplot as plt"
      ]
    },
    {
      "cell_type": "code",
      "source": [
        "x=np.array(eval(input()))\n",
        "y=np.array(eval(input()))\n",
        "x_mean=np.mean(x)\n",
        "y_mean=np.mean(y)\n",
        "num=0\n",
        "denom=0"
      ],
      "metadata": {
        "colab": {
          "base_uri": "https://localhost:8080/"
        },
        "id": "jzqO1xdEQ2Xa",
        "outputId": "8a36ed74-acb6-4084-b874-3b7af36aa8a1"
      },
      "execution_count": null,
      "outputs": [
        {
          "name": "stdout",
          "output_type": "stream",
          "text": [
            "8,2,11,6,5,4,12,9,6,1\n",
            "3,10,3,6,8,12,1,4,9,14\n"
          ]
        }
      ]
    },
    {
      "cell_type": "code",
      "source": [
        "for i in range(len(x)):\n",
        "  num+=((x[i]-x_mean)*(y[i]-y_mean))\n",
        "  denom+=(x[i]-x_mean)**2\n",
        "  m=num/denom\n",
        "  b=y_mean-m*x_mean\n",
        "  print(m,b)"
      ],
      "metadata": {
        "colab": {
          "base_uri": "https://localhost:8080/"
        },
        "id": "c-0MihjhRgtr",
        "outputId": "345e660c-6f91-4cd1-c3da-ac7cd536156b"
      },
      "execution_count": null,
      "outputs": [
        {
          "output_type": "stream",
          "name": "stdout",
          "text": [
            "-2.500000000000001 23.000000000000007\n",
            "-0.8941605839416058 12.722627737226277\n",
            "-0.882079851439183 12.645311049210772\n",
            "-0.8695652173913043 12.565217391304348\n",
            "-0.8628318584070795 12.52212389380531\n",
            "-1.0007849293563578 13.40502354788069\n",
            "-1.0276967930029153 13.577259475218657\n",
            "-1.0372698697799727 13.638527166591825\n",
            "-1.0443747198565663 13.683998207082023\n",
            "-1.1064189189189189 14.08108108108108\n"
          ]
        }
      ]
    },
    {
      "cell_type": "code",
      "source": [
        "y_predicted=m*x+b\n",
        "print(y_predicted)\n",
        "plt.scatter(x,y)\n",
        "plt.plot(x,y_predicted,color='red')\n",
        "plt.show()"
      ],
      "metadata": {
        "colab": {
          "base_uri": "https://localhost:8080/",
          "height": 301
        },
        "id": "4PC5Suf6UQ_E",
        "outputId": "08155b95-8429-4b37-b876-a775908a9d8a"
      },
      "execution_count": null,
      "outputs": [
        {
          "output_type": "stream",
          "name": "stdout",
          "text": [
            "[ 5.22972973 11.86824324  1.91047297  7.44256757  8.54898649  9.65540541\n",
            "  0.80405405  4.12331081  7.44256757 12.97466216]\n"
          ]
        },
        {
          "output_type": "display_data",
          "data": {
            "text/plain": [
              "<Figure size 432x288 with 1 Axes>"
            ],
            "image/png": "[encoded data removed]"
          },
          "metadata": {
            "needs_background": "light"
          }
        }
      ]
    }
  ]
}